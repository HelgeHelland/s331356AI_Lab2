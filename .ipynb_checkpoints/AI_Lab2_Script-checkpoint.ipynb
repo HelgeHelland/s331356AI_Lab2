{
 "cells": [
  {
   "cell_type": "code",
   "execution_count": 1,
   "metadata": {},
   "outputs": [],
   "source": [
    "import pandas as panda\n",
    "from sklearn import linear_model\n",
    "import matplotlib.pyplot as plt\n",
    "import numpy as np\n",
    "import datetime"
   ]
  },
  {
   "cell_type": "code",
   "execution_count": 2,
   "metadata": {},
   "outputs": [
    {
     "data": {
      "text/html": [
       "<div>\n",
       "<style scoped>\n",
       "    .dataframe tbody tr th:only-of-type {\n",
       "        vertical-align: middle;\n",
       "    }\n",
       "\n",
       "    .dataframe tbody tr th {\n",
       "        vertical-align: top;\n",
       "    }\n",
       "\n",
       "    .dataframe thead th {\n",
       "        text-align: right;\n",
       "    }\n",
       "</style>\n",
       "<table border=\"1\" class=\"dataframe\">\n",
       "  <thead>\n",
       "    <tr style=\"text-align: right;\">\n",
       "      <th></th>\n",
       "      <th>Date</th>\n",
       "      <th>Open</th>\n",
       "      <th>High</th>\n",
       "      <th>Low</th>\n",
       "      <th>Close</th>\n",
       "      <th>Adj Close</th>\n",
       "      <th>Volume</th>\n",
       "    </tr>\n",
       "  </thead>\n",
       "  <tbody>\n",
       "    <tr>\n",
       "      <th>0</th>\n",
       "      <td>2003-12-18</td>\n",
       "      <td>19.482599</td>\n",
       "      <td>19.596901</td>\n",
       "      <td>19.025499</td>\n",
       "      <td>19.139799</td>\n",
       "      <td>19.139799</td>\n",
       "      <td>4978496.0</td>\n",
       "    </tr>\n",
       "    <tr>\n",
       "      <th>1</th>\n",
       "      <td>2003-12-19</td>\n",
       "      <td>19.368299</td>\n",
       "      <td>19.425501</td>\n",
       "      <td>18.282801</td>\n",
       "      <td>18.454201</td>\n",
       "      <td>18.454201</td>\n",
       "      <td>1410901.0</td>\n",
       "    </tr>\n",
       "    <tr>\n",
       "      <th>2</th>\n",
       "      <td>2003-12-22</td>\n",
       "      <td>18.739901</td>\n",
       "      <td>18.739901</td>\n",
       "      <td>17.997101</td>\n",
       "      <td>18.054300</td>\n",
       "      <td>18.054300</td>\n",
       "      <td>137047.0</td>\n",
       "    </tr>\n",
       "    <tr>\n",
       "      <th>3</th>\n",
       "      <td>2003-12-23</td>\n",
       "      <td>17.997101</td>\n",
       "      <td>17.997101</td>\n",
       "      <td>17.368700</td>\n",
       "      <td>17.425800</td>\n",
       "      <td>17.425800</td>\n",
       "      <td>229418.0</td>\n",
       "    </tr>\n",
       "    <tr>\n",
       "      <th>7</th>\n",
       "      <td>2003-12-29</td>\n",
       "      <td>17.425800</td>\n",
       "      <td>17.425800</td>\n",
       "      <td>16.854500</td>\n",
       "      <td>17.254400</td>\n",
       "      <td>17.254400</td>\n",
       "      <td>196206.0</td>\n",
       "    </tr>\n",
       "    <tr>\n",
       "      <th>...</th>\n",
       "      <td>...</td>\n",
       "      <td>...</td>\n",
       "      <td>...</td>\n",
       "      <td>...</td>\n",
       "      <td>...</td>\n",
       "      <td>...</td>\n",
       "      <td>...</td>\n",
       "    </tr>\n",
       "    <tr>\n",
       "      <th>4248</th>\n",
       "      <td>2020-10-12</td>\n",
       "      <td>0.709000</td>\n",
       "      <td>0.710000</td>\n",
       "      <td>0.650000</td>\n",
       "      <td>0.676800</td>\n",
       "      <td>0.676800</td>\n",
       "      <td>48320475.0</td>\n",
       "    </tr>\n",
       "    <tr>\n",
       "      <th>4249</th>\n",
       "      <td>2020-10-13</td>\n",
       "      <td>0.676800</td>\n",
       "      <td>0.676800</td>\n",
       "      <td>0.600000</td>\n",
       "      <td>0.600600</td>\n",
       "      <td>0.600600</td>\n",
       "      <td>47786200.0</td>\n",
       "    </tr>\n",
       "    <tr>\n",
       "      <th>4250</th>\n",
       "      <td>2020-10-14</td>\n",
       "      <td>0.601000</td>\n",
       "      <td>0.640000</td>\n",
       "      <td>0.596200</td>\n",
       "      <td>0.626000</td>\n",
       "      <td>0.626000</td>\n",
       "      <td>37534949.0</td>\n",
       "    </tr>\n",
       "    <tr>\n",
       "      <th>4251</th>\n",
       "      <td>2020-10-15</td>\n",
       "      <td>0.626000</td>\n",
       "      <td>0.626000</td>\n",
       "      <td>0.585000</td>\n",
       "      <td>0.605000</td>\n",
       "      <td>0.605000</td>\n",
       "      <td>26737615.0</td>\n",
       "    </tr>\n",
       "    <tr>\n",
       "      <th>4252</th>\n",
       "      <td>2020-10-16</td>\n",
       "      <td>0.605000</td>\n",
       "      <td>0.620000</td>\n",
       "      <td>0.601000</td>\n",
       "      <td>0.610600</td>\n",
       "      <td>0.610600</td>\n",
       "      <td>15754218.0</td>\n",
       "    </tr>\n",
       "  </tbody>\n",
       "</table>\n",
       "<p>4218 rows × 7 columns</p>\n",
       "</div>"
      ],
      "text/plain": [
       "            Date       Open       High        Low      Close  Adj Close  \\\n",
       "0     2003-12-18  19.482599  19.596901  19.025499  19.139799  19.139799   \n",
       "1     2003-12-19  19.368299  19.425501  18.282801  18.454201  18.454201   \n",
       "2     2003-12-22  18.739901  18.739901  17.997101  18.054300  18.054300   \n",
       "3     2003-12-23  17.997101  17.997101  17.368700  17.425800  17.425800   \n",
       "7     2003-12-29  17.425800  17.425800  16.854500  17.254400  17.254400   \n",
       "...          ...        ...        ...        ...        ...        ...   \n",
       "4248  2020-10-12   0.709000   0.710000   0.650000   0.676800   0.676800   \n",
       "4249  2020-10-13   0.676800   0.676800   0.600000   0.600600   0.600600   \n",
       "4250  2020-10-14   0.601000   0.640000   0.596200   0.626000   0.626000   \n",
       "4251  2020-10-15   0.626000   0.626000   0.585000   0.605000   0.605000   \n",
       "4252  2020-10-16   0.605000   0.620000   0.601000   0.610600   0.610600   \n",
       "\n",
       "          Volume  \n",
       "0      4978496.0  \n",
       "1      1410901.0  \n",
       "2       137047.0  \n",
       "3       229418.0  \n",
       "7       196206.0  \n",
       "...          ...  \n",
       "4248  48320475.0  \n",
       "4249  47786200.0  \n",
       "4250  37534949.0  \n",
       "4251  26737615.0  \n",
       "4252  15754218.0  \n",
       "\n",
       "[4218 rows x 7 columns]"
      ]
     },
     "execution_count": 2,
     "metadata": {},
     "output_type": "execute_result"
    }
   ],
   "source": [
    "dataset = panda.read_csv('NAS.csv')\n",
    "startLen = len(dataset)\n",
    "dataset.dropna(inplace = True)\n",
    "dataset\n"
   ]
  },
  {
   "cell_type": "code",
   "execution_count": 3,
   "metadata": {},
   "outputs": [
    {
     "data": {
      "text/html": [
       "<div>\n",
       "<style scoped>\n",
       "    .dataframe tbody tr th:only-of-type {\n",
       "        vertical-align: middle;\n",
       "    }\n",
       "\n",
       "    .dataframe tbody tr th {\n",
       "        vertical-align: top;\n",
       "    }\n",
       "\n",
       "    .dataframe thead th {\n",
       "        text-align: right;\n",
       "    }\n",
       "</style>\n",
       "<table border=\"1\" class=\"dataframe\">\n",
       "  <thead>\n",
       "    <tr style=\"text-align: right;\">\n",
       "      <th></th>\n",
       "      <th>Date</th>\n",
       "    </tr>\n",
       "  </thead>\n",
       "  <tbody>\n",
       "    <tr>\n",
       "      <th>0</th>\n",
       "      <td>2003-12-18</td>\n",
       "    </tr>\n",
       "    <tr>\n",
       "      <th>1</th>\n",
       "      <td>2003-12-19</td>\n",
       "    </tr>\n",
       "    <tr>\n",
       "      <th>2</th>\n",
       "      <td>2003-12-22</td>\n",
       "    </tr>\n",
       "    <tr>\n",
       "      <th>3</th>\n",
       "      <td>2003-12-23</td>\n",
       "    </tr>\n",
       "    <tr>\n",
       "      <th>7</th>\n",
       "      <td>2003-12-29</td>\n",
       "    </tr>\n",
       "    <tr>\n",
       "      <th>8</th>\n",
       "      <td>2003-12-30</td>\n",
       "    </tr>\n",
       "    <tr>\n",
       "      <th>11</th>\n",
       "      <td>2004-01-02</td>\n",
       "    </tr>\n",
       "    <tr>\n",
       "      <th>12</th>\n",
       "      <td>2004-01-05</td>\n",
       "    </tr>\n",
       "    <tr>\n",
       "      <th>13</th>\n",
       "      <td>2004-01-06</td>\n",
       "    </tr>\n",
       "    <tr>\n",
       "      <th>14</th>\n",
       "      <td>2004-01-07</td>\n",
       "    </tr>\n",
       "  </tbody>\n",
       "</table>\n",
       "</div>"
      ],
      "text/plain": [
       "          Date\n",
       "0   2003-12-18\n",
       "1   2003-12-19\n",
       "2   2003-12-22\n",
       "3   2003-12-23\n",
       "7   2003-12-29\n",
       "8   2003-12-30\n",
       "11  2004-01-02\n",
       "12  2004-01-05\n",
       "13  2004-01-06\n",
       "14  2004-01-07"
      ]
     },
     "execution_count": 3,
     "metadata": {},
     "output_type": "execute_result"
    }
   ],
   "source": [
    "dateSet = dataset.drop('High',axis='columns')\n",
    "dateSet = dateSet.drop('Open',axis='columns')\n",
    "dateSet = dateSet.drop('Low',axis='columns')\n",
    "dateSet = dateSet.drop('Close',axis='columns')\n",
    "dateSet = dateSet.drop('Adj Close',axis='columns')\n",
    "dateSet = dateSet.drop('Volume',axis='columns')\n",
    "dateSet.head(10)"
   ]
  },
  {
   "cell_type": "code",
   "execution_count": 4,
   "metadata": {
    "scrolled": false
   },
   "outputs": [],
   "source": [
    "#floatDate = input\n",
    "#for i in range(0, startLen):\n",
    " #   try:\n",
    "  #      floatDate.Date[i] = float(floatDate.Date[i].split('-')[0]  + floatDate.Date[i].split('-')[1]\n",
    "      #                            + floatDate.Date[i].split('-')[2])\n",
    "   # except KeyError:\n",
    "    #    i = 0\n",
    "#floatDate"
   ]
  },
  {
   "cell_type": "code",
   "execution_count": 5,
   "metadata": {},
   "outputs": [
    {
     "data": {
      "text/html": [
       "<div>\n",
       "<style scoped>\n",
       "    .dataframe tbody tr th:only-of-type {\n",
       "        vertical-align: middle;\n",
       "    }\n",
       "\n",
       "    .dataframe tbody tr th {\n",
       "        vertical-align: top;\n",
       "    }\n",
       "\n",
       "    .dataframe thead th {\n",
       "        text-align: right;\n",
       "    }\n",
       "</style>\n",
       "<table border=\"1\" class=\"dataframe\">\n",
       "  <thead>\n",
       "    <tr style=\"text-align: right;\">\n",
       "      <th></th>\n",
       "      <th>Date</th>\n",
       "    </tr>\n",
       "  </thead>\n",
       "  <tbody>\n",
       "    <tr>\n",
       "      <th>0</th>\n",
       "      <td>0</td>\n",
       "    </tr>\n",
       "    <tr>\n",
       "      <th>1</th>\n",
       "      <td>1</td>\n",
       "    </tr>\n",
       "    <tr>\n",
       "      <th>2</th>\n",
       "      <td>4</td>\n",
       "    </tr>\n",
       "    <tr>\n",
       "      <th>3</th>\n",
       "      <td>5</td>\n",
       "    </tr>\n",
       "    <tr>\n",
       "      <th>7</th>\n",
       "      <td>11</td>\n",
       "    </tr>\n",
       "    <tr>\n",
       "      <th>...</th>\n",
       "      <td>...</td>\n",
       "    </tr>\n",
       "    <tr>\n",
       "      <th>4248</th>\n",
       "      <td>6143</td>\n",
       "    </tr>\n",
       "    <tr>\n",
       "      <th>4249</th>\n",
       "      <td>6144</td>\n",
       "    </tr>\n",
       "    <tr>\n",
       "      <th>4250</th>\n",
       "      <td>6145</td>\n",
       "    </tr>\n",
       "    <tr>\n",
       "      <th>4251</th>\n",
       "      <td>6146</td>\n",
       "    </tr>\n",
       "    <tr>\n",
       "      <th>4252</th>\n",
       "      <td>6147</td>\n",
       "    </tr>\n",
       "  </tbody>\n",
       "</table>\n",
       "<p>4218 rows × 1 columns</p>\n",
       "</div>"
      ],
      "text/plain": [
       "      Date\n",
       "0        0\n",
       "1        1\n",
       "2        4\n",
       "3        5\n",
       "7       11\n",
       "...    ...\n",
       "4248  6143\n",
       "4249  6144\n",
       "4250  6145\n",
       "4251  6146\n",
       "4252  6147\n",
       "\n",
       "[4218 rows x 1 columns]"
      ]
     },
     "execution_count": 5,
     "metadata": {},
     "output_type": "execute_result"
    }
   ],
   "source": [
    "startDate = datetime.datetime(2003, 12, 18)\n",
    "daysSinceStart = dateSet\n",
    "#Converting the date to number of days since the first date\n",
    "for i in range(0, startLen):\n",
    "    try:\n",
    "        date = datetime.datetime(int(daysSinceStart.Date[i].split('-')[0]), int(daysSinceStart.Date[i].split('-')[1])\n",
    "                                  , int(daysSinceStart.Date[i].split('-')[2]))\n",
    "        \n",
    "        timeDiff = date - startDate\n",
    "        timeDiffSeconds = timeDiff.total_seconds()\n",
    "        daysSinceStart.Date[i] = divmod(timeDiffSeconds, 86400)[0] #calculates day nr from seconds\n",
    "    except KeyError:\n",
    "        i = 0\n",
    "daysSinceStart"
   ]
  },
  {
   "cell_type": "code",
   "execution_count": 6,
   "metadata": {},
   "outputs": [
    {
     "name": "stdout",
     "output_type": "stream",
     "text": [
      "Enter date in format YYYY-MM-DD 2003-12-18\n"
     ]
    },
    {
     "data": {
      "text/plain": [
       "0.0"
      ]
     },
     "execution_count": 6,
     "metadata": {},
     "output_type": "execute_result"
    }
   ],
   "source": [
    "inputDate = input(\"Enter date in format YYYY-MM-DD \")\n",
    "inputDateDate = datetime.datetime(int(inputDate.split('-')[0]), int(inputDate.split('-')[1])\n",
    "                                  , int(inputDate.split('-')[2]))\n",
    "timeDiff = inputDateDate - startDate\n",
    "timeDiffSeconds = timeDiff.total_seconds()\n",
    "inputDays = divmod(timeDiffSeconds, 86400)[0] #calculates day nr from seconds\n",
    "inputDays"
   ]
  },
  {
   "cell_type": "code",
   "execution_count": 7,
   "metadata": {},
   "outputs": [
    {
     "data": {
      "text/plain": [
       "0     19.139799\n",
       "1     18.454201\n",
       "2     18.054300\n",
       "3     17.425800\n",
       "7     17.254400\n",
       "8     17.711500\n",
       "11    17.768600\n",
       "12    17.711500\n",
       "13    17.597200\n",
       "14    17.140100\n",
       "Name: Adj Close, dtype: float64"
      ]
     },
     "execution_count": 7,
     "metadata": {},
     "output_type": "execute_result"
    }
   ],
   "source": [
    "price = dataset['Adj Close']\n",
    "price.head(10)"
   ]
  },
  {
   "cell_type": "code",
   "execution_count": 8,
   "metadata": {},
   "outputs": [
    {
     "data": {
      "text/plain": [
       "LinearRegression(copy_X=True, fit_intercept=True, n_jobs=1, normalize=False)"
      ]
     },
     "execution_count": 8,
     "metadata": {},
     "output_type": "execute_result"
    }
   ],
   "source": [
    "regObj = linear_model.LinearRegression()\n",
    "regObj.fit(daysSinceStart,price)"
   ]
  },
  {
   "cell_type": "code",
   "execution_count": 9,
   "metadata": {},
   "outputs": [
    {
     "data": {
      "text/plain": [
       "array([311038.95562619])"
      ]
     },
     "execution_count": 9,
     "metadata": {},
     "output_type": "execute_result"
    }
   ],
   "source": [
    "regObj.predict([[20201016]]) #Linear Regression is bad"
   ]
  },
  {
   "cell_type": "code",
   "execution_count": 10,
   "metadata": {},
   "outputs": [
    {
     "data": {
      "text/plain": [
       "[<matplotlib.lines.Line2D at 0x1dfa8338208>]"
      ]
     },
     "execution_count": 10,
     "metadata": {},
     "output_type": "execute_result"
    },
    {
     "data": {
      "image/png": "[encoded data removed]",
      "text/plain": [
       "<Figure size 432x288 with 1 Axes>"
      ]
     },
     "metadata": {
      "needs_background": "light"
     },
     "output_type": "display_data"
    }
   ],
   "source": [
    "plt.xlabel('Days from start',fontsize=16)\n",
    "plt.ylabel('Value',fontsize=16)\n",
    "#Visual Represention of linear equation with Linear Regression\n",
    "plt.scatter(daysSinceStart,price, color='blue')\n",
    "plt.plot(daysSinceStart,regObj.predict(daysSinceStart),color='red')"
   ]
  },
  {
   "cell_type": "code",
   "execution_count": 11,
   "metadata": {},
   "outputs": [
    {
     "data": {
      "text/plain": [
       "array([[ 72.559799, 162.830994,   2.758   , ..., 123.408997, 172.526993,\n",
       "         49.992001]])"
      ]
     },
     "execution_count": 11,
     "metadata": {},
     "output_type": "execute_result"
    }
   ],
   "source": [
    "x = daysSinceStart\n",
    "y = price.values\n",
    "\n",
    "from sklearn.model_selection import train_test_split\n",
    "x_train,x_test, y_train, y_test = train_test_split(x,y, test_size=0.3, random_state=0)\n",
    "\n",
    "y_train = y_train.reshape(1,-1)\n",
    "y_test = y_test.reshape(1,-1)\n",
    "\n",
    "y_test"
   ]
  },
  {
   "cell_type": "code",
   "execution_count": 12,
   "metadata": {
    "scrolled": true
   },
   "outputs": [
    {
     "data": {
      "text/plain": [
       "array([[-1.11647192],\n",
       "       [-1.29486006],\n",
       "       [-1.36438252],\n",
       "       ...,\n",
       "       [-0.38539351],\n",
       "       [ 1.0066528 ],\n",
       "       [ 0.93034657]])"
      ]
     },
     "execution_count": 12,
     "metadata": {},
     "output_type": "execute_result"
    }
   ],
   "source": [
    "from sklearn.preprocessing import StandardScaler \n",
    "\n",
    "sc_x = StandardScaler()\n",
    "sc_y = StandardScaler()\n",
    "\n",
    "x_train =sc_x.fit_transform(x_train)\n",
    "x_test = sc_x.fit_transform(x_test)\n",
    "\n",
    "y_test = y_test.reshape(-1,1)\n",
    "y_train = y_train.reshape(-1,1)\n",
    "\n",
    "y_test= sc_y.fit_transform(y_test)\n",
    "y_train= sc_y.fit_transform(y_train)\n",
    "\n",
    "y_train"
   ]
  },
  {
   "cell_type": "code",
   "execution_count": 13,
   "metadata": {},
   "outputs": [
    {
     "name": "stderr",
     "output_type": "stream",
     "text": [
      "C:\\Users\\Helge\\Anaconda3\\lib\\site-packages\\sklearn\\ensemble\\weight_boosting.py:29: DeprecationWarning: numpy.core.umath_tests is an internal NumPy module and should not be imported. It will be removed in a future NumPy release.\n",
      "  from numpy.core.umath_tests import inner1d\n",
      "C:\\Users\\Helge\\Anaconda3\\lib\\site-packages\\ipykernel_launcher.py:3: DataConversionWarning: A column-vector y was passed when a 1d array was expected. Please change the shape of y to (n_samples,), for example using ravel().\n",
      "  This is separate from the ipykernel package so we can avoid doing imports until\n"
     ]
    },
    {
     "data": {
      "text/plain": [
       "RandomForestRegressor(bootstrap=True, criterion='mse', max_depth=None,\n",
       "           max_features='auto', max_leaf_nodes=None,\n",
       "           min_impurity_decrease=0.0, min_impurity_split=None,\n",
       "           min_samples_leaf=1, min_samples_split=2,\n",
       "           min_weight_fraction_leaf=0.0, n_estimators=500, n_jobs=1,\n",
       "           oob_score=False, random_state=0, verbose=0, warm_start=False)"
      ]
     },
     "execution_count": 13,
     "metadata": {},
     "output_type": "execute_result"
    }
   ],
   "source": [
    "from sklearn.ensemble import RandomForestRegressor\n",
    "model=RandomForestRegressor(n_estimators=500, criterion='mse', random_state=0)\n",
    "model.fit(x_train, y_train)"
   ]
  },
  {
   "cell_type": "code",
   "execution_count": 14,
   "metadata": {
    "scrolled": true
   },
   "outputs": [
    {
     "data": {
      "text/plain": [
       "array([-1.44131169, -1.41892646, -1.46695004, ..., -1.41500912,\n",
       "       -1.41317596, -1.45105387])"
      ]
     },
     "execution_count": 14,
     "metadata": {},
     "output_type": "execute_result"
    }
   ],
   "source": [
    "y_pred = model.predict(x_test)\n",
    "y_pred=y_pred.reshape(1, -1)\n",
    "y_pred = sc_y.transform(y_pred)\n",
    "y_pred = y_pred[0]\n",
    "y_pred"
   ]
  },
  {
   "cell_type": "code",
   "execution_count": 15,
   "metadata": {
    "scrolled": true
   },
   "outputs": [
    {
     "name": "stdout",
     "output_type": "stream",
     "text": [
      "MAE 1.442184173306283\n",
      "MSE 3.046046270332006\n",
      "RMSE 1.7452926030703293\n",
      "Score: 0.9478525042124376\n"
     ]
    }
   ],
   "source": [
    "from sklearn import metrics  \n",
    "print(\"MAE\", metrics.mean_absolute_error(y_test, y_pred))\n",
    "print(\"MSE\", metrics.mean_squared_error(y_test, y_pred))\n",
    "print(\"RMSE\", np.sqrt(metrics.mean_squared_error(y_test, y_pred)))\n",
    "print(\"Score:\", model.score(x_test, y_test))"
   ]
  },
  {
   "cell_type": "code",
   "execution_count": 16,
   "metadata": {
    "scrolled": false
   },
   "outputs": [
    {
     "data": {
      "text/plain": [
       "0       19.139799\n",
       "1       18.454201\n",
       "2       18.054300\n",
       "3       17.425800\n",
       "7       17.254400\n",
       "          ...    \n",
       "4248     0.676800\n",
       "4249     0.600600\n",
       "4250     0.626000\n",
       "4251     0.605000\n",
       "4252     0.610600\n",
       "Name: Adj Close, Length: 4218, dtype: float64"
      ]
     },
     "execution_count": 16,
     "metadata": {},
     "output_type": "execute_result"
    },
    {
     "data": {
      "image/png": "[encoded data removed]",
      "text/plain": [
       "<Figure size 432x288 with 1 Axes>"
      ]
     },
     "metadata": {
      "needs_background": "light"
     },
     "output_type": "display_data"
    }
   ],
   "source": [
    "plt.xlabel('Days from start',fontsize=16)\n",
    "plt.ylabel('Value',fontsize=16)\n",
    "plt.scatter(daysSinceStart, price, color='blue')\n",
    "price"
   ]
  },
  {
   "cell_type": "code",
   "execution_count": 17,
   "metadata": {},
   "outputs": [
    {
     "data": {
      "text/plain": [
       "array([ 51.78999113, 144.03120287,   0.61869277, ...,   0.61869277,\n",
       "         0.61869277,   0.61869277])"
      ]
     },
     "execution_count": 17,
     "metadata": {},
     "output_type": "execute_result"
    },
    {
     "data": {
      "image/png": "[encoded data removed]",
      "text/plain": [
       "<Figure size 432x288 with 1 Axes>"
      ]
     },
     "metadata": {
      "needs_background": "light"
     },
     "output_type": "display_data"
    }
   ],
   "source": [
    "fullPred = model.predict(x)\n",
    "fullPred = sc_y.inverse_transform(fullPred) #All the numbers are 0.61869277 (exept for the two first)\n",
    "plt.scatter(daysSinceStart, fullPred, color='red')\n",
    "fullPred"
   ]
  },
  {
   "cell_type": "code",
   "execution_count": 18,
   "metadata": {},
   "outputs": [
    {
     "name": "stdout",
     "output_type": "stream",
     "text": [
      "Random forrest predicts a close value of 51.78999112999992\n"
     ]
    }
   ],
   "source": [
    "datePredictionRandomForrest = model.predict(inputDays)\n",
    "datePredictionRandomForrest = sc_y.inverse_transform(datePredictionRandomForrest)\n",
    "print(\"Random forrest predicts a close value of \" + str(datePredictionRandomForrest[0]))"
   ]
  },
  {
   "cell_type": "code",
   "execution_count": 19,
   "metadata": {},
   "outputs": [
    {
     "name": "stdout",
     "output_type": "stream",
     "text": [
      "Linear regression predicts a close value of 32.23222067659168\n"
     ]
    }
   ],
   "source": [
    "datePredictionLinearRegression = regObj.predict(inputDays)\n",
    "print(\"Linear regression predicts a close value of \" + str(datePredictionLinearRegression[0]))"
   ]
  }
 ],
 "metadata": {
  "kernelspec": {
   "display_name": "Python 3",
   "language": "python",
   "name": "python3"
  },
  "language_info": {
   "codemirror_mode": {
    "name": "ipython",
    "version": 3
   },
   "file_extension": ".py",
   "mimetype": "text/x-python",
   "name": "python",
   "nbconvert_exporter": "python",
   "pygments_lexer": "ipython3",
   "version": "3.7.0"
  }
 },
 "nbformat": 4,
 "nbformat_minor": 2
}
